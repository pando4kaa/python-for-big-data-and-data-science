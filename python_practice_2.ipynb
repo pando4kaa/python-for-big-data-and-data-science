{
  "cells": [
    {
      "cell_type": "markdown",
      "metadata": {
        "id": "p9wwt0LZzNvn"
      },
      "source": [
        "# I. Змінні та памʼять."
      ]
    },
    {
      "cell_type": "code",
      "execution_count": null,
      "metadata": {},
      "outputs": [],
      "source": []
    },
    {
      "cell_type": "markdown",
      "metadata": {
        "id": "HTJrrm95xSV9"
      },
      "source": [
        "1. Створити змінні, що посилаються на два цілих числа, що однакові за значенням, де значення належить проміжку від -5 до 256. Перевірте, чи будуть ці змінні рівні тільки за значенням або ж ще будуть посилатися на один і той самий обʼєкт в памʼяті? Наведіть код та дайте текстову відповідь нижче."
      ]
    },
    {
      "cell_type": "code",
      "execution_count": 19,
      "metadata": {
        "colab": {
          "base_uri": "https://localhost:8080/"
        },
        "id": "TATni2vzayjG",
        "outputId": "b5d9ec36-7504-4c5e-e2ab-445af25fe230"
      },
      "outputs": [
        {
          "name": "stdout",
          "output_type": "stream",
          "text": [
            "10750984\n",
            "10750984\n",
            "True\n",
            "True\n",
            "True\n",
            "139362637388784 139362637396720\n",
            "False\n",
            "True\n",
            "False\n"
          ]
        }
      ],
      "source": [
        "num1 = 5\n",
        "num2 = 5\n",
        "print(id(num1))\n",
        "print(id(num2))\n",
        "print(id(num1) == id(num2))\n",
        "print(num1 == num2)\n",
        "print(num1 is num2)\n",
        "\n",
        "num3 = 300\n",
        "num4 = 300\n",
        "print(id(num3), id(num4))\n",
        "print(id(num3) == id(num4))\n",
        "print(num3 == num4)\n",
        "print(num3 is num4)\n"
      ]
    },
    {
      "cell_type": "markdown",
      "metadata": {
        "id": "zfRG_o3WbRdg"
      },
      "source": [
        "Якщо числа в діапазоні -5 до 256, то змінні посилаються на один і той самий об'єкт у пам'яті. Якщо ж значення виходять за межі цього діапазону, Python створює окремі об'єкти."
      ]
    },
    {
      "cell_type": "markdown",
      "metadata": {
        "id": "ISORzt6M3vAt"
      },
      "source": [
        "2. За допомогою якої функції можна перевірити належність змінної до вказаного типу даних (напр. чи змінна True посилається на значення булевого та цілочисленого типу)?"
      ]
    },
    {
      "cell_type": "code",
      "execution_count": 20,
      "metadata": {
        "colab": {
          "base_uri": "https://localhost:8080/"
        },
        "id": "9vL9CFaMbfyo",
        "outputId": "d3b6f7bc-f64b-4ca6-bf57-663b23eb13fb"
      },
      "outputs": [
        {
          "name": "stdout",
          "output_type": "stream",
          "text": [
            "True\n",
            "True\n"
          ]
        }
      ],
      "source": [
        "print(isinstance(True, bool))\n",
        "print(isinstance(True, int))"
      ]
    },
    {
      "cell_type": "markdown",
      "metadata": {
        "id": "tRxugKAxwYLw"
      },
      "source": [
        "# II. Цілі числа та числа з рухомою комою"
      ]
    },
    {
      "cell_type": "markdown",
      "metadata": {
        "id": "NLHkgd5Gybc8"
      },
      "source": [
        "3. Створити дві змінні, що посилаються на будь-які ціле число та число з рухомою комою та продемонструвати такі арифметичні операції: додавання, віднімання, ділення, множення, ділення без залишку, ділення по модулю, приведення до ступеню. Всі результати операцій вивести на екран."
      ]
    },
    {
      "cell_type": "code",
      "execution_count": 21,
      "metadata": {
        "colab": {
          "base_uri": "https://localhost:8080/"
        },
        "id": "nb8u_3pjb2cA",
        "outputId": "6c59e7ee-29bc-437f-e3ad-dfe1c5266cf6"
      },
      "outputs": [
        {
          "name": "stdout",
          "output_type": "stream",
          "text": [
            "8.9\n",
            "3.1\n",
            "-3.1\n",
            "2.0689655172413794\n",
            "17.4\n",
            "2.0\n",
            "0.20000000000000018\n",
            "180.56710124883435\n"
          ]
        }
      ],
      "source": [
        "num1 = 6\n",
        "num2 = 2.9\n",
        "print(num1 + num2)\n",
        "print(num1 - num2)\n",
        "print(num2 - num1)\n",
        "print(num1 / num2)\n",
        "print(num1 * num2)\n",
        "print(num1 // num2) #division without residue\n",
        "print(num1 % num2) #modulo division\n",
        "print(num1 ** num2)"
      ]
    },
    {
      "cell_type": "markdown",
      "metadata": {
        "id": "1kBClKgPzZnC"
      },
      "source": [
        "4. Використовуючи змінні з вправи 3, продемонструйте механізм явного перетворення типів, де числа з рухомою комою перетворюються на цілі числа. Також визначте змінну, що посилається на значення булевого типу і спробуйте явно привести її до цілого числа."
      ]
    },
    {
      "cell_type": "code",
      "execution_count": 22,
      "metadata": {
        "colab": {
          "base_uri": "https://localhost:8080/"
        },
        "id": "TbqJbkeUcKsD",
        "outputId": "6ad79150-9116-48c6-944a-812d274af91d"
      },
      "outputs": [
        {
          "name": "stdout",
          "output_type": "stream",
          "text": [
            "2\n",
            "1\n"
          ]
        }
      ],
      "source": [
        "num2_to_int = int(num2)\n",
        "print(num2_to_int)\n",
        "\n",
        "bool1 = True\n",
        "bool1_to_int = int(bool1)\n",
        "print(bool1_to_int)"
      ]
    },
    {
      "cell_type": "markdown",
      "metadata": {
        "id": "EVJ7AflwxrZi"
      },
      "source": [
        "# IІІ. Рядки (String)."
      ]
    },
    {
      "cell_type": "markdown",
      "metadata": {
        "id": "_s5ECzz9zE61"
      },
      "source": [
        "5. Створити пустий рядок двома різними способами."
      ]
    },
    {
      "cell_type": "code",
      "execution_count": 23,
      "metadata": {
        "colab": {
          "base_uri": "https://localhost:8080/"
        },
        "id": "fkZJHu9Scvc-",
        "outputId": "26290513-e3ad-43da-8c96-be562c2f4852"
      },
      "outputs": [
        {
          "name": "stdout",
          "output_type": "stream",
          "text": [
            "True\n",
            "True\n"
          ]
        }
      ],
      "source": [
        "str1 = \"\"\n",
        "str2 = str()\n",
        "\n",
        "print(len(str1) == 0)\n",
        "print(len(str2) == 0)"
      ]
    },
    {
      "cell_type": "markdown",
      "metadata": {
        "id": "4Bdn9J3MzLf_"
      },
      "source": [
        "6. Створити рядок з апострофом. Зробити його сирим. Вивести обидва рядка на екран."
      ]
    },
    {
      "cell_type": "code",
      "execution_count": 24,
      "metadata": {
        "colab": {
          "base_uri": "https://localhost:8080/"
        },
        "id": "ivji_hsmc0GH",
        "outputId": "ccca0e36-4620-4b7a-f07a-86fcd5dd8864"
      },
      "outputs": [
        {
          "name": "stdout",
          "output_type": "stream",
          "text": [
            "I'm \t kitty\n",
            "I'm \\t kitty\n"
          ]
        }
      ],
      "source": [
        "str3 = \"I'm \\t kitty\"\n",
        "raw_str3 = r\"I'm \\t kitty\"\n",
        "\n",
        "print(str3)\n",
        "print(raw_str3)"
      ]
    },
    {
      "cell_type": "markdown",
      "metadata": {
        "id": "bg_d8wM4z8dS"
      },
      "source": [
        "7. Створити змінну, що буде посилатися на Ваше прізвище латинкою. Створити форматований рядок, який буде мати вигляд \"My surname is ______\", де на місці нижніх підкреслень буде Ваше прізвище зі змінної."
      ]
    },
    {
      "cell_type": "code",
      "execution_count": 25,
      "metadata": {
        "colab": {
          "base_uri": "https://localhost:8080/"
        },
        "id": "kuxFgpWndACq",
        "outputId": "d53cd393-e027-40de-9742-bf0b83f4045f"
      },
      "outputs": [
        {
          "name": "stdout",
          "output_type": "stream",
          "text": [
            "Tuhai\n",
            "My surname is Tuhai\n"
          ]
        }
      ],
      "source": [
        "my_surname = \"Tuhai\"\n",
        "formatted_str = f\"My surname is {my_surname}\"\n",
        "\n",
        "print(my_surname)\n",
        "print(formatted_str)"
      ]
    },
    {
      "cell_type": "markdown",
      "metadata": {
        "id": "1Nc6RqvQ0hxU"
      },
      "source": [
        "8. Маючи рядок \"My dog is crazy.\" перетворити його на список [\"my\", \"dog\", \"is\", \"crazy\"]"
      ]
    },
    {
      "cell_type": "code",
      "execution_count": 26,
      "metadata": {
        "colab": {
          "base_uri": "https://localhost:8080/"
        },
        "id": "w1Ya4RqedUhw",
        "outputId": "dc9c4bdd-60e1-46c4-f6fc-5eb23d959ec4"
      },
      "outputs": [
        {
          "name": "stdout",
          "output_type": "stream",
          "text": [
            "['my', 'dog', 'is', 'crazy']\n"
          ]
        }
      ],
      "source": [
        "str_to_split = \"My dog is crazy.\"\n",
        "splitted_str = str_to_split[:-1].lower().split()\n",
        "\n",
        "print(splitted_str)"
      ]
    },
    {
      "cell_type": "markdown",
      "metadata": {
        "id": "GYVqN9uP1D4n"
      },
      "source": [
        "# IV. Робота зі списками."
      ]
    },
    {
      "cell_type": "markdown",
      "metadata": {
        "id": "7-DeDunw2sO-"
      },
      "source": [
        "9. Створити список двома різними за синтаксисом способами. За допомогою вбудованої функції обчисліть довжину одного з них."
      ]
    },
    {
      "cell_type": "code",
      "execution_count": 27,
      "metadata": {
        "colab": {
          "base_uri": "https://localhost:8080/"
        },
        "id": "zxg06Uuxdyoh",
        "outputId": "e54c83c7-5360-4130-a8e1-944f303b253e"
      },
      "outputs": [
        {
          "name": "stdout",
          "output_type": "stream",
          "text": [
            "[1, 2, 3, 4, 5]\n",
            "[6, 7, 8, 9, 10]\n",
            "[1, 4, 9, 16, 25]\n",
            "['meow', 'meow', 'meow']\n",
            "5\n"
          ]
        }
      ],
      "source": [
        "list1 = [1, 2, 3, 4, 5]\n",
        "list2 = list((6, 7, 8, 9, 10))\n",
        "list3 = [x ** 2 for x in range(1, 6)]\n",
        "list4 = \"meow meow meow\".split()\n",
        "\n",
        "print(list1)\n",
        "print(list2)\n",
        "print(list3)\n",
        "print(list4)\n",
        "\n",
        "list1_length = len(list1)\n",
        "print(list1_length)"
      ]
    },
    {
      "cell_type": "markdown",
      "metadata": {
        "id": "8vmGUTjL22gI"
      },
      "source": [
        "10. Створіть два списка та за допомогою спеціального методу додайте другий з них в якості останнього елемента першого."
      ]
    },
    {
      "cell_type": "code",
      "execution_count": 28,
      "metadata": {
        "colab": {
          "base_uri": "https://localhost:8080/"
        },
        "id": "uHtjWYw7d7hm",
        "outputId": "116b4c8f-01e2-48ae-cedb-2b511a77c199"
      },
      "outputs": [
        {
          "name": "stdout",
          "output_type": "stream",
          "text": [
            "[1, 2, 3, [4, 5, 6]]\n"
          ]
        }
      ],
      "source": [
        "list5 = [1, 2, 3]\n",
        "list6 = [4, 5, 6]\n",
        "\n",
        "list5.append(list6)\n",
        "print(list5)"
      ]
    },
    {
      "cell_type": "markdown",
      "metadata": {
        "id": "JC3BkD-67_--"
      },
      "source": [
        "11. Створіть список, де елементами цього списку також є списки. Отримай перший елемент з останнього рядка та виведи значення на екран."
      ]
    },
    {
      "cell_type": "code",
      "execution_count": 29,
      "metadata": {
        "colab": {
          "base_uri": "https://localhost:8080/"
        },
        "id": "Kz2jZHsGeLlz",
        "outputId": "fc70a1d3-3728-4638-d60b-49efe39f8609"
      },
      "outputs": [
        {
          "name": "stdout",
          "output_type": "stream",
          "text": [
            "7\n"
          ]
        }
      ],
      "source": [
        "list6 = [[1, 2, 3], [4, 5, 6], [7, 8, 9]]\n",
        "list7 = list6[-1][0]\n",
        "\n",
        "print(list7)"
      ]
    },
    {
      "cell_type": "markdown",
      "metadata": {
        "id": "JA47PKTv8zFK"
      },
      "source": [
        "12. Створіть список з десяти елементів різного типу. Отримайте всі елементи, окрім двох перших та двох останніх та збережіть їх в новій змінній."
      ]
    },
    {
      "cell_type": "code",
      "execution_count": 30,
      "metadata": {
        "colab": {
          "base_uri": "https://localhost:8080/"
        },
        "id": "_rHdUR-ueP4-",
        "outputId": "714d545e-b7bf-479e-d420-cae95960ed78"
      },
      "outputs": [
        {
          "name": "stdout",
          "output_type": "stream",
          "text": [
            "[42, 'string', 3.14, True, None, [1, 2], (3, 4), {1, 2}, {'key': 'value'}, (1+2j)]\n",
            "[3.14, True, None, [1, 2], (3, 4), {1, 2}]\n"
          ]
        }
      ],
      "source": [
        "my_list = [42, \"string\", 3.14, True, None, [1, 2], (3, 4), {1, 2}, {'key': 'value'}, complex(1, 2)]\n",
        "print(my_list)\n",
        "\n",
        "new_list = my_list[2:-2]\n",
        "print(new_list)"
      ]
    },
    {
      "cell_type": "markdown",
      "metadata": {
        "id": "pCjR1dJb1Qbi"
      },
      "source": [
        "# V. Робота з кортежами."
      ]
    },
    {
      "cell_type": "markdown",
      "metadata": {
        "id": "fAZCxAX06R_k"
      },
      "source": [
        "14. Створити кортеж з один елементом."
      ]
    },
    {
      "cell_type": "code",
      "execution_count": 31,
      "metadata": {
        "colab": {
          "base_uri": "https://localhost:8080/"
        },
        "id": "H7d82WkQev3e",
        "outputId": "d127e170-509d-49c1-ef26-4596c161d34e"
      },
      "outputs": [
        {
          "data": {
            "text/plain": [
              "True"
            ]
          },
          "execution_count": 31,
          "metadata": {},
          "output_type": "execute_result"
        }
      ],
      "source": [
        "tuple1 = (2,)\n",
        "isinstance(tuple1, tuple)"
      ]
    },
    {
      "cell_type": "markdown",
      "metadata": {
        "id": "8LCtYcmI6w1M"
      },
      "source": [
        "15. Порівняйте список та кортеж. Назвіть схожості та відмінності, випадки використання."
      ]
    },
    {
      "cell_type": "markdown",
      "metadata": {
        "id": "fUsN1Hnue0C6"
      },
      "source": [
        "**Відмінності**:\n",
        "1. Список змінний (тобто можна додавати,змінювати, видаляти елементи), а кортеж незмінний.\n",
        "2. Різний синтаксис:\n",
        "\n",
        "  *   list declaration - []\n",
        "  *   tuple declaration - (,)\n",
        "3. Список повільніший через те, що mutable.\n",
        "4. Список може містити значення різних типів. Кортеж варто використовувати для одного типу даних.\n",
        "\n",
        "**Схожості**:\n",
        "1. Підтримують ітерування.\n",
        "2. Можуть містити дубльовані значення."
      ]
    },
    {
      "cell_type": "markdown",
      "metadata": {
        "id": "m0xrwFijAmDD"
      },
      "source": [
        "16. Створіть кортеж з 11ти елементів чисел з рухомою комою та отримайте кожен парний за індексом елемент в зворотньому порядку. Наприклад, маючи (1.2, 2.3, 3.3, 4.3, 5.3, 6.3, 7.3, 8.3, 9.3, 0.3), отримати (0.3, 8.3, 6.3, 4.3, 2.3). Результат збережіть в нову змінну та виведіть на екран."
      ]
    },
    {
      "cell_type": "code",
      "execution_count": 32,
      "metadata": {
        "colab": {
          "base_uri": "https://localhost:8080/"
        },
        "id": "p-5DAH6XfAGA",
        "outputId": "e8f2b635-fb46-4372-b14e-8e3c3396d906"
      },
      "outputs": [
        {
          "name": "stdout",
          "output_type": "stream",
          "text": [
            "11\n",
            "(10.1, 8.8, 6.6, 4.4, 2.2)\n"
          ]
        }
      ],
      "source": [
        "tuple2 = (1.1, 2.2, 3.3, 4.4, 5.5, 6.6, 7.7, 8.8, 9.9, 10.1, 11.2)\n",
        "print(len(tuple2))\n",
        "\n",
        "res_tuple = tuple2[-2::-2]\n",
        "print(res_tuple)\n"
      ]
    },
    {
      "cell_type": "markdown",
      "metadata": {
        "id": "rW_I9dt3x6cW"
      },
      "source": [
        "# VI. Множини (Set)."
      ]
    },
    {
      "cell_type": "markdown",
      "metadata": {
        "id": "zNjRLHLw1Bgg"
      },
      "source": [
        "17. Створити множину без елементів. Після цого за допомогою методу додайте кілька різних елементів до множини. Чи множини є змінним типом даних?"
      ]
    },
    {
      "cell_type": "code",
      "execution_count": 33,
      "metadata": {
        "colab": {
          "base_uri": "https://localhost:8080/"
        },
        "id": "KOv7zc2Kfo4N",
        "outputId": "74f63898-e1e3-4191-afa8-ad236f0c82cb"
      },
      "outputs": [
        {
          "name": "stdout",
          "output_type": "stream",
          "text": [
            "{10, 'meow', 6.29}\n",
            "{'meow', 6.29}\n"
          ]
        }
      ],
      "source": [
        "set1 = set()\n",
        "\n",
        "set1.add(10)\n",
        "set1.add(\"meow\")\n",
        "set1.add(6.29)\n",
        "print(set1)\n",
        "\n",
        "set1.remove(10)\n",
        "print(set1)"
      ]
    },
    {
      "cell_type": "markdown",
      "metadata": {
        "id": "vxS6dVYiftZQ"
      },
      "source": [
        "Set - змінний тип даних, бо ми можемо додавати та видаляти елементи.\n",
        "Але самі елементи множини повинні бути незмінними (списки не можна додавати, бо вони змінні)."
      ]
    },
    {
      "cell_type": "markdown",
      "metadata": {
        "id": "gHpT0Zw_1HEF"
      },
      "source": [
        "18. Створити множину, маючи список my_list = [1, 1, 2, 67, 67, 8, 9]. Пояснити, чому \"зникли\" деякі елементи."
      ]
    },
    {
      "cell_type": "code",
      "execution_count": 34,
      "metadata": {
        "colab": {
          "base_uri": "https://localhost:8080/"
        },
        "id": "qCN4uvJ_fxmu",
        "outputId": "99c5528b-b9a1-4441-9937-96d7db845a78"
      },
      "outputs": [
        {
          "name": "stdout",
          "output_type": "stream",
          "text": [
            "[1, 1, 2, 67, 67, 8, 9]\n",
            "{1, 2, 67, 8, 9}\n"
          ]
        }
      ],
      "source": [
        "my_list = [1, 1, 2, 67, 67, 8, 9]\n",
        "print(my_list)\n",
        "\n",
        "my_set = set(my_list)\n",
        "print(my_set)"
      ]
    },
    {
      "cell_type": "markdown",
      "metadata": {
        "id": "tFNc1e20fyny"
      },
      "source": [
        "Спочатку ми створюємо список, що може містити повторювальні елементи. Але потім ми перетворюємо цей list на set, а у множині не зберігаються повторювальні значення, тож дублікати видаляються і залишаються тільки унікальні значення."
      ]
    },
    {
      "cell_type": "markdown",
      "metadata": {
        "id": "SRMkGizS1UwY"
      },
      "source": [
        "19. Створіть дві множини. Продемонстуйте над ними операції: обʼєднання, різниці, пересічі та симетричної різниці. Використовуйте методи, що не змінюють множини, а створюють нові."
      ]
    },
    {
      "cell_type": "code",
      "execution_count": 35,
      "metadata": {
        "colab": {
          "base_uri": "https://localhost:8080/"
        },
        "id": "h0T-VuDnf3Ri",
        "outputId": "573744af-1cb8-4177-cbf7-3595eb001792"
      },
      "outputs": [
        {
          "name": "stdout",
          "output_type": "stream",
          "text": [
            "{2.2, 4, 7, 11, 'hello', 'meow', 29}\n",
            "{2.2, 'meow', 29}\n",
            "{4}\n",
            "{'hello', 11, 7}\n",
            "{'hello', 4, 7, 11}\n"
          ]
        }
      ],
      "source": [
        "set3 = {\"meow\", 29, 2.2, 4}\n",
        "set4 = {\"hello\", 7, \"meow\", 2.2, 29, 11}\n",
        "\n",
        "print(set3.union(set4))\n",
        "print(set3.intersection(set4))\n",
        "print(set3.difference(set4))\n",
        "print(set4.difference(set3))\n",
        "print(set3.symmetric_difference(set4))"
      ]
    },
    {
      "cell_type": "markdown",
      "metadata": {
        "id": "kWc8gkzTx7Ea"
      },
      "source": [
        "# VII. Словники (Dictionary)."
      ]
    },
    {
      "cell_type": "markdown",
      "metadata": {
        "id": "i5FLwj-B2ybQ"
      },
      "source": [
        "20. Створіть пустий словник. До нього додайте чотири пари елементів такі, щоб їхні ключі були різних типів. Чи може список бути ключем? Чому?"
      ]
    },
    {
      "cell_type": "code",
      "execution_count": 36,
      "metadata": {
        "colab": {
          "base_uri": "https://localhost:8080/"
        },
        "id": "hxgv3BzrgLAV",
        "outputId": "0f28585a-be04-4f14-bcd5-71a2e44783c9"
      },
      "outputs": [
        {
          "name": "stdout",
          "output_type": "stream",
          "text": [
            "{6: 'meow', 'hello': 5, 2.999: [2.2, 46, 'qwerty'], (1, 6, 9): True}\n"
          ]
        }
      ],
      "source": [
        "dict1 = dict()\n",
        "dict1[6] = \"meow\"\n",
        "dict1[\"hello\"] = 5\n",
        "dict1[2.999] = [2.2, 46, \"qwerty\"]\n",
        "dict1[(1, 6, 9)] = True\n",
        "print(dict1)\n",
        "\n",
        "# try to make the list a dictionary key (get an error)\n",
        "# dict1[[1, 2, 3]] = \"error\"\n",
        "# print(dict1)"
      ]
    },
    {
      "cell_type": "markdown",
      "metadata": {
        "id": "zwa7UVN-gR3m"
      },
      "source": [
        "Ключами у словнику можуть бути тільки незмінні типи даних, а list - змінний тип, отже він не може бути ключем."
      ]
    },
    {
      "cell_type": "markdown",
      "metadata": {
        "id": "WM_pMlJsgoNf"
      },
      "source": [
        "21. Створіть словник, де значенням в одній з пар теж буде словник, який теж має вкладений словник. Виведіть на екран значення, що міститься в словнику, що знаходиться на найнижчому рівні ієрархії вкладеності (найбільш внутрішній)."
      ]
    },
    {
      "cell_type": "code",
      "execution_count": 37,
      "metadata": {
        "colab": {
          "base_uri": "https://localhost:8080/"
        },
        "id": "60dlP7IHhAy4",
        "outputId": "bbc92115-0d90-4907-f1e2-656f10147f72"
      },
      "outputs": [
        {
          "name": "stdout",
          "output_type": "stream",
          "text": [
            "29\n"
          ]
        }
      ],
      "source": [
        "nested_dict = { \"root\": { \"level1\": { \"level2\": { \"level3\": { \"final\": 29}}}}}\n",
        "print(nested_dict[\"root\"][\"level1\"][\"level2\"][\"level3\"][\"final\"])"
      ]
    },
    {
      "cell_type": "markdown",
      "metadata": {
        "id": "xOZP0hkx6cCr"
      },
      "source": [
        "# Вітаю! Ви велика(ий) молодець, що впоралась(вся). Похваліть себе та побалуйте чимось приємним. Я Вами пишаюся."
      ]
    }
  ],
  "metadata": {
    "colab": {
      "provenance": []
    },
    "kernelspec": {
      "display_name": "Python 3",
      "name": "python3"
    },
    "language_info": {
      "name": "python"
    }
  },
  "nbformat": 4,
  "nbformat_minor": 0
}

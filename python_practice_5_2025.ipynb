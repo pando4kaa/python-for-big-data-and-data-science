{
  "nbformat": 4,
  "nbformat_minor": 0,
  "metadata": {
    "colab": {
      "provenance": []
    },
    "kernelspec": {
      "name": "python3",
      "display_name": "Python 3"
    },
    "language_info": {
      "name": "python"
    }
  },
  "cells": [
    {
      "cell_type": "markdown",
      "source": [
        "# I. OOP"
      ],
      "metadata": {
        "id": "5qV_sehzFCTp"
      }
    },
    {
      "cell_type": "markdown",
      "source": [
        "1. (6б). Створіть клас Building, додайте три атрибути, один з яких має значення за замовчуванням та два методи на свій розсуд."
      ],
      "metadata": {
        "id": "tx_U_hOALyfg"
      }
    },
    {
      "cell_type": "code",
      "source": [
        "class Building:\n",
        "    def __init__(self, name, floors, material=\"Brick\"):\n",
        "        self.name = name\n",
        "        self.floors = floors\n",
        "        self.material = material\n",
        "\n",
        "    def building_info(self):\n",
        "        print(f\"The building '{self.name}' has {self.floors} floors and is built from {self.material}.\")\n",
        "        return None\n",
        "\n",
        "    def add_floors(self, count):\n",
        "        self.floors += count\n",
        "        print(f\"Added {count} floors to building '{self.name}'. Now they are {self.floors}.\")\n",
        "        return None\n"
      ],
      "metadata": {
        "id": "-Vf895KaL88N"
      },
      "execution_count": 1,
      "outputs": []
    },
    {
      "cell_type": "markdown",
      "source": [
        "2. (2б). Створіть два обʼєкти цього класу, де один з обʼєктів створюється із дефолтним значенням атрибуту. На одному обʼєкті отримайте значення його атрибуту, а на іншому викличте один з його методів."
      ],
      "metadata": {
        "id": "X_UlOMB0L93w"
      }
    },
    {
      "cell_type": "code",
      "source": [
        "building1 = Building(\"Hotel Ukraine\", 14)\n",
        "print(f\"Material of '{building1.name}': {building1.material}\")\n",
        "\n",
        "building2 = Building(\"Gulliver Business Center\", 35, \"Glass and concrete\")\n",
        "building2.add_floors(3)"
      ],
      "metadata": {
        "id": "7gBu0ESOMCpG",
        "colab": {
          "base_uri": "https://localhost:8080/"
        },
        "outputId": "f2bf1bdd-280b-40be-8549-3c6fcc211032"
      },
      "execution_count": 2,
      "outputs": [
        {
          "output_type": "stream",
          "name": "stdout",
          "text": [
            "Material of 'Hotel Ukraine': Brick\n",
            "Added 3 floors to building 'Gulliver Business Center'. Now they are 38.\n"
          ]
        }
      ]
    },
    {
      "cell_type": "markdown",
      "source": [
        "3. (5б). Створіть клас, де атрибути мають різні рівні доступу. Спробуйте отримати їхні значення та опишіть результати."
      ],
      "metadata": {
        "id": "HoqSCZt1MHn5"
      }
    },
    {
      "cell_type": "code",
      "source": [
        "class AccessLevels:\n",
        "    def __init__(self, public, protected, private):\n",
        "        self.public = public\n",
        "        self._protected = protected\n",
        "        self.__private = private\n",
        "\n",
        "    def get_private(self):\n",
        "        return self.__private\n",
        "\n",
        "\n",
        "access = AccessLevels(\"Public Level\", \"Protected Level\", \"Private Level\")\n",
        "\n",
        "print(f\"Public: {access.public}\")\n",
        "print(f\"Protected: {access._protected}\")  # Possible but not recommended\n",
        "\n",
        "try:\n",
        "    print(f\"Private: {access.__private}\")\n",
        "except AttributeError:\n",
        "    print(\"Cannot access private attribute '__private' directly!\")\n",
        "\n",
        "# Accessing private attribute via method\n",
        "print(f\"Private via getter: {access.get_private()}\")\n"
      ],
      "metadata": {
        "id": "r9b3vJxBMSPV",
        "colab": {
          "base_uri": "https://localhost:8080/"
        },
        "outputId": "6933be45-877e-4419-d937-dce381009809"
      },
      "execution_count": 3,
      "outputs": [
        {
          "output_type": "stream",
          "name": "stdout",
          "text": [
            "Public: Public Level\n",
            "Protected: Protected Level\n",
            "Cannot access private attribute '__private' directly!\n",
            "Private via getter: Private Level\n"
          ]
        }
      ]
    },
    {
      "cell_type": "markdown",
      "source": [
        "4. (7б). Як ви розумієте термін self? Для чого використовується метод __init __?"
      ],
      "metadata": {
        "id": "5op2m2vgMSkZ"
      }
    },
    {
      "cell_type": "markdown",
      "source": [
        "self - посилання на поточний об'єкт класу. Коли відбувається виклик методу класу, то Python автоматично передає поточний об'єкт як перший аргумент в метод.\n",
        "\n",
        "__init__ є конструктором класу, який автоматично викликається при створенні нового об'єкта класу і дозволяє ініціалізувати атрибути об'єкта (надавати значення атрибутам об'єкта під час його створення)."
      ],
      "metadata": {
        "id": "DyiPqNRvMasx"
      }
    },
    {
      "cell_type": "markdown",
      "source": [
        "5. (9б). Створіть клас 3D-фігура без атрибутів, з методом get_volume для отримання об'єму фігури, що повертає 0 та __add __, який приймає self та other в якості аргументів, а повертає суму об'ємів 3d-фігур self та other."
      ],
      "metadata": {
        "id": "-6X8EGfjMd2y"
      }
    },
    {
      "cell_type": "code",
      "source": [
        "class ThreeDFigure:\n",
        "    def get_volume(self):\n",
        "        return 0\n",
        "\n",
        "    def __add__(self, other):\n",
        "        if isinstance(other, ThreeDFigure):\n",
        "            return self.get_volume() + other.get_volume()\n",
        "        return None"
      ],
      "metadata": {
        "id": "4rvO_wYUMaEr"
      },
      "execution_count": 4,
      "outputs": []
    },
    {
      "cell_type": "markdown",
      "source": [
        "6. (11б). Створіть 2 дочірніх класи від 3d-фігура: Циліндр та Куб, які мають атрибути, необхідні для розрахунку об'єму. Визначте метод get_volume в кожному з них так, щоби вони розраховували об'єм у залежності від формули для кожного типу фігури. Створіть обʼєкт класу Циліндр та обʼєкт класу Куб. Виконайте операцію суми за допомогою оператора + між ними, аби знайти сумарний об'єм."
      ],
      "metadata": {
        "id": "SFcKnnv5Mo_z"
      }
    },
    {
      "cell_type": "code",
      "source": [
        "import math\n",
        "\n",
        "class Cylinder(ThreeDFigure):\n",
        "    def __init__(self, radius, height):\n",
        "        self.radius = radius\n",
        "        self.height = height\n",
        "\n",
        "    def get_volume(self):\n",
        "        cylinder_volume = math.pi * self.radius ** 2 * self.height\n",
        "        return cylinder_volume\n",
        "\n",
        "class Cube(ThreeDFigure):\n",
        "    def __init__(self, side_length):\n",
        "        self.side_length = side_length\n",
        "\n",
        "    def get_volume(self):\n",
        "        cube_volume = self.side_length ** 3\n",
        "        return cube_volume\n",
        "\n",
        "\n",
        "cylinder = Cylinder(3, 5)\n",
        "cube = Cube(4)\n",
        "total_volume = cylinder + cube\n",
        "\n",
        "print(f\"Volume of Cylinder: {cylinder.get_volume()}\")\n",
        "print(f\"Volume of Cube: {cube.get_volume()}\")\n",
        "print(f\"Total Volume: {total_volume}\")"
      ],
      "metadata": {
        "id": "H3GVNr69Muf3",
        "colab": {
          "base_uri": "https://localhost:8080/"
        },
        "outputId": "0a01efa9-780d-4c04-ce19-f9ad67bed14d"
      },
      "execution_count": 6,
      "outputs": [
        {
          "output_type": "stream",
          "name": "stdout",
          "text": [
            "Volume of Cylinder: 141.3716694115407\n",
            "Volume of Cube: 64\n",
            "Total Volume: 205.3716694115407\n"
          ]
        }
      ]
    },
    {
      "cell_type": "markdown",
      "source": [
        "7. (3б). Продемонструйте різницю між isinstance та issubclass."
      ],
      "metadata": {
        "id": "HCvR206YMvLK"
      }
    },
    {
      "cell_type": "code",
      "source": [
        "# isinstance checks if an object is an instance of a class or any of its parent classes\n",
        "print(f\"Is 'cylinder' an instance of Cylinder? {isinstance(cylinder, Cylinder)}\")\n",
        "print(f\"Is 'cube' an instance of Cube? {isinstance(cube, Cube)}\")\n",
        "print(f\"Is 'cylinder' an instance of ThreeDFigure? {isinstance(cylinder, ThreeDFigure)}\")\n",
        "print(f\"Is 'cube' an instance of ThreeDFigure? {isinstance(cube, ThreeDFigure)}\")\n",
        "print(f\"Is 'cylinder' an instance of Cube? {isinstance(cylinder, Cube)}\")\n",
        "\n",
        "# issubclass checks if a class is a subclass of another class.\n",
        "print(f\"Is 'Cylinder' a subclass of ThreeDFigure? {issubclass(Cylinder, ThreeDFigure)}\")\n",
        "print(f\"Is 'Cube' a subclass of ThreeDFigure? {issubclass(Cube, ThreeDFigure)}\")\n",
        "print(f\"Is 'Cylinder' a subclass of Cube? {issubclass(Cylinder, Cube)}\")\n",
        "print(f\"Is 'ThreeDFigure' a subclass of Cylinder? {issubclass(ThreeDFigure, Cylinder)}\")"
      ],
      "metadata": {
        "id": "L_V1bBvDM0GN",
        "colab": {
          "base_uri": "https://localhost:8080/"
        },
        "outputId": "fe523795-853d-4c49-8e47-6078a838561a"
      },
      "execution_count": 7,
      "outputs": [
        {
          "output_type": "stream",
          "name": "stdout",
          "text": [
            "Is 'cylinder' an instance of Cylinder? True\n",
            "Is 'cube' an instance of Cube? True\n",
            "Is 'cylinder' an instance of ThreeDFigure? True\n",
            "Is 'cube' an instance of ThreeDFigure? True\n",
            "Is 'cylinder' an instance of Cube? False\n",
            "Is 'Cylinder' a subclass of ThreeDFigure? True\n",
            "Is 'Cube' a subclass of ThreeDFigure? True\n",
            "Is 'Cylinder' a subclass of Cube? False\n",
            "Is 'ThreeDFigure' a subclass of Cylinder? False\n"
          ]
        }
      ]
    },
    {
      "cell_type": "markdown",
      "source": [
        "8. (13б). Створіть клас EWallet з приватними атрибутами balance та id. Реалізуйте методи поповнення та зняття коштів, забезпечивши належну інкапсуляцію. Підказка: використовуйте декоратори property та setter."
      ],
      "metadata": {
        "id": "jjsaBZ-iM0Qq"
      }
    },
    {
      "cell_type": "code",
      "source": [
        "class EWallet:\n",
        "    def __init__(self, wallet_id, initial_balance=0):\n",
        "        self.__id = wallet_id\n",
        "        self.__balance = initial_balance\n",
        "\n",
        "    @property\n",
        "    def balance(self):\n",
        "        return self.__balance\n",
        "\n",
        "    @balance.setter\n",
        "    def balance(self, amount):\n",
        "        if amount < 0:\n",
        "            raise ValueError(\"Balance cannot be negative.\")\n",
        "        self.__balance = amount\n",
        "\n",
        "    @property\n",
        "    def wallet_id(self):\n",
        "        return self.__id\n",
        "\n",
        "    @wallet_id.setter\n",
        "    def wallet_id(self, new_id):\n",
        "        if not isinstance(new_id, str):\n",
        "            raise TypeError(\"Wallet ID must be a string.\")\n",
        "        if len(new_id) != 6:\n",
        "            raise ValueError(\"Wallet ID must be exactly 6 characters long.\")\n",
        "        if not new_id.startswith('W'):\n",
        "            raise ValueError(\"Wallet ID must start with 'W'.\")\n",
        "        self.__id = new_id\n",
        "        print(f\"Wallet ID has been updated to {self.__id}\")\n",
        "\n",
        "    def deposit(self, amount):\n",
        "        if amount <= 0:\n",
        "            raise ValueError(\"Deposit amount must be positive.\")\n",
        "        self.__balance += amount\n",
        "        print(f\"Successfully deposited {amount}. New balance: {self.__balance}\")\n",
        "        return None\n",
        "\n",
        "    def withdraw(self, amount):\n",
        "        if amount <= 0:\n",
        "            raise ValueError(\"Withdrawal amount must be positive.\")\n",
        "        if amount > self.__balance:\n",
        "            raise ValueError(\"Insufficient funds!\")\n",
        "        self.__balance -= amount\n",
        "        print(f\"Successfully withdrew {amount}. Remaining balance: {self.__balance}\")\n",
        "\n",
        "\n",
        "try:\n",
        "    wallet = EWallet(\"W12345\", 100)\n",
        "    print(f\"Wallet ID: {wallet.wallet_id}\")\n",
        "    print(f\"Current Balance: {wallet.balance}\\n\")\n",
        "\n",
        "    wallet.deposit(50)\n",
        "    wallet.deposit(200)\n",
        "\n",
        "    try:\n",
        "        wallet.deposit(-20)\n",
        "    except ValueError as e:\n",
        "        print(f\"Error: {e}\")\n",
        "\n",
        "    wallet.withdraw(30)\n",
        "    wallet.withdraw(100)\n",
        "\n",
        "    try:\n",
        "        wallet.withdraw(-10)\n",
        "    except ValueError as e:\n",
        "        print(f\"Error: {e}\")\n",
        "\n",
        "    try:\n",
        "        wallet.withdraw(300)\n",
        "    except ValueError as e:\n",
        "        print(f\"Error: {e}\")\n",
        "\n",
        "    wallet.withdraw(wallet.balance)\n",
        "\n",
        "    try:\n",
        "        wallet.withdraw(1)\n",
        "    except ValueError as e:\n",
        "        print(f\"Error: {e}\")\n",
        "\n",
        "    wallet.balance = 500\n",
        "    print(f\"Updated Balance via setter: {wallet.balance}\")\n",
        "\n",
        "    try:\n",
        "        wallet.balance = -100\n",
        "    except ValueError as e:\n",
        "        print(f\"Error: {e}\")\n",
        "\n",
        "    wallet.wallet_id = \"W67890\"\n",
        "    print(f\"Updated Wallet ID via setter: {wallet.wallet_id}\")\n",
        "\n",
        "    try:\n",
        "        wallet.wallet_id = \"A12345\"\n",
        "    except ValueError as e:\n",
        "        print(f\"Error: {e}\")\n",
        "\n",
        "except ValueError as e:\n",
        "    print(f\"Critical Error: {e}\")\n"
      ],
      "metadata": {
        "id": "xCvZ7lh8M7YA",
        "colab": {
          "base_uri": "https://localhost:8080/"
        },
        "outputId": "c2de9341-908e-4e53-a907-509670934afa"
      },
      "execution_count": 8,
      "outputs": [
        {
          "output_type": "stream",
          "name": "stdout",
          "text": [
            "Wallet ID: W12345\n",
            "Current Balance: 100\n",
            "\n",
            "Successfully deposited 50. New balance: 150\n",
            "Successfully deposited 200. New balance: 350\n",
            "Error: Deposit amount must be positive.\n",
            "Successfully withdrew 30. Remaining balance: 320\n",
            "Successfully withdrew 100. Remaining balance: 220\n",
            "Error: Withdrawal amount must be positive.\n",
            "Error: Insufficient funds!\n",
            "Successfully withdrew 220. Remaining balance: 0\n",
            "Error: Insufficient funds!\n",
            "Updated Balance via setter: 500\n",
            "Error: Balance cannot be negative.\n",
            "Wallet ID has been updated to W67890\n",
            "Updated Wallet ID via setter: W67890\n",
            "Error: Wallet ID must start with 'W'.\n"
          ]
        }
      ]
    },
    {
      "cell_type": "markdown",
      "source": [
        "9. (11б). Створіть клас ShoppingCart, який містить список об'єктів типу Item. Реалізуйте методи для додавання айтемів, їх видалення та відображення списку айтемів."
      ],
      "metadata": {
        "id": "tIzL2SJTM8ft"
      }
    },
    {
      "cell_type": "code",
      "source": [
        "class Item:\n",
        "    def __init__(self, name, price, category, quantity=1, discount=0):\n",
        "        self.name = name\n",
        "        self.price = price\n",
        "        self.category = category\n",
        "        self.quantity = quantity\n",
        "        self.discount = discount\n",
        "\n",
        "    def __repr__(self):\n",
        "        return f\"Item(name={self.name}, price={self.price}, category={self.category}, quantity={self.quantity}, discount={self.discount})\"\n",
        "\n",
        "    def __str__(self):\n",
        "        return f\"{self.name} ({self.category}): {self.price} UAH x {self.quantity} (Discount: {self.discount}%)\"\n",
        "\n",
        "    def total_price(self):\n",
        "        # calculates the price of an item based on quantity and discount\n",
        "        price_after_discount = self.price * (1 - self.discount / 100)\n",
        "        return price_after_discount * self.quantity\n",
        "\n",
        "class ShoppingCart:\n",
        "    def __init__(self):\n",
        "        self.items = []\n",
        "\n",
        "    def add_item(self, item):\n",
        "        if isinstance(item, Item):\n",
        "            self.items.append(item)\n",
        "            print(f\"Item '{item.name}' added to the cart.\")\n",
        "        else:\n",
        "            raise TypeError('Only instances of \"Item\" can be added.')\n",
        "        return None\n",
        "\n",
        "    def remove_item(self, item_name):\n",
        "        for item in self.items:\n",
        "            if item.name == item_name:\n",
        "                self.items.remove(item)\n",
        "                print(f\"Item '{item_name}' removed from the cart.\")\n",
        "                return None\n",
        "        print(f\"Item '{item_name}' not found in the cart.\")\n",
        "\n",
        "    def show_items(self):\n",
        "        if self.items:\n",
        "            print(\"Items in your shopping cart:\")\n",
        "            for item in self.items:\n",
        "                print(item)  # __str__ method of Item\n",
        "        else:\n",
        "            print(\"Your shopping cart is empty.\")\n",
        "\n",
        "    def total_cost(self):\n",
        "        total = sum(item.total_price() for item in self.items)\n",
        "        print(f\"Total cost: {total:.2f} UAH\")\n",
        "\n",
        "    def apply_discount(self, discount_percentage):\n",
        "        for item in self.items:\n",
        "            item.discount = discount_percentage\n",
        "        print(f\"Applied {discount_percentage}% discount to all items in the cart.\")\n",
        "\n",
        "\n",
        "item1 = Item(\"Laptop\", 999.99, \"Electronics\", 1, 10)\n",
        "item2 = Item(\"Headphones\", 199.99, \"Electronics\", 2)\n",
        "item3 = Item(\"Mouse\", 49.99, \"Accessories\", 3)\n",
        "\n",
        "cart = ShoppingCart()\n",
        "\n",
        "cart.add_item(item1)\n",
        "cart.add_item(item2)\n",
        "cart.add_item(item3)\n",
        "\n",
        "cart.show_items()\n",
        "cart.total_cost()\n",
        "cart.apply_discount(15)\n",
        "cart.show_items()\n",
        "cart.total_cost()\n",
        "cart.remove_item(\"Headphones\")\n",
        "cart.show_items()"
      ],
      "metadata": {
        "id": "HWxfJKLtNAUZ",
        "colab": {
          "base_uri": "https://localhost:8080/"
        },
        "outputId": "a6023e1e-571d-456c-fe98-f2f988817811"
      },
      "execution_count": 9,
      "outputs": [
        {
          "output_type": "stream",
          "name": "stdout",
          "text": [
            "Item 'Laptop' added to the cart.\n",
            "Item 'Headphones' added to the cart.\n",
            "Item 'Mouse' added to the cart.\n",
            "Items in your shopping cart:\n",
            "Laptop (Electronics): 999.99 UAH x 1 (Discount: 10%)\n",
            "Headphones (Electronics): 199.99 UAH x 2 (Discount: 0%)\n",
            "Mouse (Accessories): 49.99 UAH x 3 (Discount: 0%)\n",
            "Total cost: 1449.94 UAH\n",
            "Applied 15% discount to all items in the cart.\n",
            "Items in your shopping cart:\n",
            "Laptop (Electronics): 999.99 UAH x 1 (Discount: 15%)\n",
            "Headphones (Electronics): 199.99 UAH x 2 (Discount: 15%)\n",
            "Mouse (Accessories): 49.99 UAH x 3 (Discount: 15%)\n",
            "Total cost: 1317.45 UAH\n",
            "Item 'Headphones' removed from the cart.\n",
            "Items in your shopping cart:\n",
            "Laptop (Electronics): 999.99 UAH x 1 (Discount: 15%)\n",
            "Mouse (Accessories): 49.99 UAH x 3 (Discount: 15%)\n"
          ]
        }
      ]
    },
    {
      "cell_type": "markdown",
      "source": [
        "10. (13б). Створіть клас Vehicle з атрибутами brand (manufacturer) та production_age. Створіть ще один клас Engine з такими атрибутами, як type (ex. petrol) та size (volume, litres). Створіть клас Car, який успадковує обидва класи Vehicle та Engine. Продемонструйте використання множинної спадковості, створивши обʼєкт класу Car та отримавши mro для цього класу."
      ],
      "metadata": {
        "id": "lmV8pAwwNIqu"
      }
    },
    {
      "cell_type": "code",
      "source": [
        "class Vehicle:\n",
        "    def __init__(self, brand, production_age):\n",
        "        self.brand = brand\n",
        "        self.production_age = production_age\n",
        "\n",
        "    def __repr__(self):\n",
        "        return f\"Vehicle(brand={self.brand}, production_age={self.production_age})\"\n",
        "\n",
        "\n",
        "class Engine:\n",
        "    def __init__(self, engine_type, size):\n",
        "        self.engine_type = engine_type\n",
        "        self.size = size\n",
        "\n",
        "    def __repr__(self):\n",
        "        return f\"Engine(engine_type={self.engine_type}, size={self.size}L)\"\n",
        "\n",
        "\n",
        "class Car(Vehicle, Engine):\n",
        "    def __init__(self, brand, production_age, engine_type, size):\n",
        "        Vehicle.__init__(self, brand, production_age)\n",
        "        Engine.__init__(self, engine_type, size)\n",
        "\n",
        "    def __repr__(self):\n",
        "        return f\"Car(brand={self.brand}, production_age={self.production_age}, engine_type={self.engine_type}, size={self.size}L)\"\n",
        "\n",
        "\n",
        "my_car = Car(\"Toyota\", 5, \"Petrol\", 1.8)\n",
        "\n",
        "print(my_car)\n",
        "\n",
        "print(\"\\nMRO for Car class:\")\n",
        "print(Car.__mro__)\n"
      ],
      "metadata": {
        "id": "R49grKlWNPeN",
        "colab": {
          "base_uri": "https://localhost:8080/"
        },
        "outputId": "d1f4aa84-1be0-4b49-9d78-c20511907aa4"
      },
      "execution_count": 10,
      "outputs": [
        {
          "output_type": "stream",
          "name": "stdout",
          "text": [
            "Car(brand=Toyota, production_age=5, engine_type=Petrol, size=1.8L)\n",
            "\n",
            "MRO for Car class:\n",
            "(<class '__main__.Car'>, <class '__main__.Vehicle'>, <class '__main__.Engine'>, <class 'object'>)\n"
          ]
        }
      ]
    },
    {
      "cell_type": "markdown",
      "source": [
        "# II. Iterator"
      ],
      "metadata": {
        "id": "dIJyUiNBFG8G"
      }
    },
    {
      "cell_type": "markdown",
      "source": [
        "11. (4б). Визначте рядок(str) з 4ма різними за значенням символами. Створіть ітератор на основі цього рядка. Викличте 5 разів функцію next на ітераторі, 4ри перших з них огорніть у ф-цію print()."
      ],
      "metadata": {
        "id": "13vsm0NyKIzL"
      }
    },
    {
      "cell_type": "code",
      "source": [
        "my_string = \"hugs\"\n",
        "\n",
        "iterator = iter(my_string)\n",
        "\n",
        "for _ in range(4):\n",
        "    print(next(iterator))\n",
        "\n",
        "try:\n",
        "    print(next(iterator))\n",
        "except StopIteration as e:\n",
        "    print(\"End of iteration.\")"
      ],
      "metadata": {
        "id": "81ntabAkKuz-",
        "colab": {
          "base_uri": "https://localhost:8080/"
        },
        "outputId": "cd1b22f7-de30-40ce-91b8-842ed7b8bbbf"
      },
      "execution_count": 11,
      "outputs": [
        {
          "output_type": "stream",
          "name": "stdout",
          "text": [
            "h\n",
            "u\n",
            "g\n",
            "s\n",
            "End of iteration.\n"
          ]
        }
      ]
    },
    {
      "cell_type": "markdown",
      "source": [
        "А що якщо викликати цю ж функцію на рядку?"
      ],
      "metadata": {
        "id": "aekWHGXOLRsO"
      }
    },
    {
      "cell_type": "code",
      "source": [
        "next(my_string)\n",
        "# an error occurs because the string is not an iterator in itself, but only an iterable object"
      ],
      "metadata": {
        "id": "mxATGsErLV1i",
        "colab": {
          "base_uri": "https://localhost:8080/",
          "height": 158
        },
        "outputId": "25055312-fcb2-46c1-af97-e8222e90f2d4"
      },
      "execution_count": 12,
      "outputs": [
        {
          "output_type": "error",
          "ename": "TypeError",
          "evalue": "'str' object is not an iterator",
          "traceback": [
            "\u001b[0;31m---------------------------------------------------------------------------\u001b[0m",
            "\u001b[0;31mTypeError\u001b[0m                                 Traceback (most recent call last)",
            "\u001b[0;32m<ipython-input-12-db00484fc87c>\u001b[0m in \u001b[0;36m<cell line: 0>\u001b[0;34m()\u001b[0m\n\u001b[0;32m----> 1\u001b[0;31m \u001b[0mnext\u001b[0m\u001b[0;34m(\u001b[0m\u001b[0mmy_string\u001b[0m\u001b[0;34m)\u001b[0m\u001b[0;34m\u001b[0m\u001b[0;34m\u001b[0m\u001b[0m\n\u001b[0m\u001b[1;32m      2\u001b[0m \u001b[0;31m# an error occurs because the string is not an iterator in itself, but only an iterable object\u001b[0m\u001b[0;34m\u001b[0m\u001b[0;34m\u001b[0m\u001b[0m\n",
            "\u001b[0;31mTypeError\u001b[0m: 'str' object is not an iterator"
          ]
        }
      ]
    },
    {
      "cell_type": "markdown",
      "source": [
        " 12. (5б). Опишіть своїми словами в одному реченні, як ви розумієте різницю між ітерабельними обʼєктами та ітераторами (можна на прикладі)."
      ],
      "metadata": {
        "id": "XwtMEopwJ4pH"
      }
    },
    {
      "cell_type": "markdown",
      "source": [
        "Ітерабельний обʼєкт — це обʼєкт, з якого можна отримати ітератор (наприклад, список або рядок), а ітератор — це обʼєкт, який реалізує методи __iter__() і __next__() і дозволяє по черзі отримувати елементи з ітерабельного обʼєкта.\n",
        "\n",
        "Можна навести таку аналогію - конвеєр на фабриці:\n",
        "продукти, що рухаються по конвеєру - ітерабельний обʼєкт,\n",
        "а робот, який збирає продукти по одному - ітератор"
      ],
      "metadata": {
        "id": "-sHrODc3KFn8"
      }
    },
    {
      "cell_type": "markdown",
      "source": [
        "13. (11б). Створіть клас, що має визначений Iterator Protocol та при кожному виклику next повертає назву дня тижня, поки вони не вичерпаються. Зверніть увагу, що порядок має значення."
      ],
      "metadata": {
        "id": "E9qJWmNbK8Gl"
      }
    },
    {
      "cell_type": "code",
      "source": [
        "class WeekDays:\n",
        "    def __init__(self, start_from='Monday'):\n",
        "        self.days_of_week = [\"Monday\", \"Tuesday\", \"Wednesday\", \"Thursday\", \"Friday\", \"Saturday\", \"Sunday\"]\n",
        "        self.current_day_index = self.days_of_week.index(start_from)\n",
        "\n",
        "    def __iter__(self):\n",
        "        return self\n",
        "\n",
        "    def __next__(self):\n",
        "        if self.current_day_index < len(self.days_of_week):\n",
        "            day = self.days_of_week[self.current_day_index]\n",
        "            self.current_day_index += 1\n",
        "            return day\n",
        "        else:\n",
        "            raise StopIteration\n",
        "\n",
        "weekdays_iterator = WeekDays('Monday')\n",
        "iterator = iter(weekdays_iterator)\n",
        "\n",
        "for i in range(7):\n",
        "    print(next(iterator))\n"
      ],
      "metadata": {
        "id": "cqx-g_RsLo6I",
        "colab": {
          "base_uri": "https://localhost:8080/"
        },
        "outputId": "35420c81-7a13-416e-a5db-425747de4b4c"
      },
      "execution_count": 14,
      "outputs": [
        {
          "output_type": "stream",
          "name": "stdout",
          "text": [
            "Monday\n",
            "Tuesday\n",
            "Wednesday\n",
            "Thursday\n",
            "Friday\n",
            "Saturday\n",
            "Sunday\n"
          ]
        }
      ]
    },
    {
      "cell_type": "markdown",
      "source": [
        "**Додаткове завдання з лекції**: diamond inheritance\n",
        "\n",
        "Ромбовидна ієрархія виникає, коли два (або більше) класи наслідують один і той же базовий клас, а потім ще один клас успадковує їх обох, що створює структуру подібну до ромба.\n",
        "\n",
        "Це створює такі проблеми:\n",
        "1. **Неоднозначність вибору методів**. Якщо базовий клас A має метод, а обидва його нащадки B і C перевизначають його, клас D, що успадковує і B, і C, не знає, яку версію методу викликати.\n",
        "\n",
        "2. **Дублювання даних (атрибутів)**.Якщо обидва класи B і C містять свою копію даних із класу A, то клас D може отримати ці дані двічі, що призводить до невідповідностей.\n",
        "\n",
        "Рішення:\n",
        "1. **Method Resolution Order (MRO)**.  Алгоритм C3 linearization визначає однозначний порядок обходу батьківських класів, завдяки якому кожен клас з’являється лише один раз у фінальному порядку.\n",
        "2. **Використання super()**. Викликаючи методи через super(), кожен клас передає виклик наступному класу згідно з MRO, що запобігає дублюванню викликів (наприклад, конструктора A) та забезпечує послідовне виконання методів.\n"
      ],
      "metadata": {
        "id": "VfbU-mAJs2BX"
      }
    },
    {
      "cell_type": "code",
      "source": [
        "class A:\n",
        "    def __init__(self):\n",
        "        print(\"A init\")\n",
        "        return None\n",
        "\n",
        "    def greet(self):\n",
        "        print(\"Hello from A\")\n",
        "\n",
        "\n",
        "class B(A):\n",
        "    def __init__(self):\n",
        "        super().__init__() # call the __init__ method of the next class in MRO (A)\n",
        "        print(\"B init\")\n",
        "        return None\n",
        "\n",
        "    def greet(self):\n",
        "        print(\"Hello from B\")\n",
        "        # In the diamond hierarchy for D, the next greet() is actually from C, not directly from A\n",
        "        super().greet()\n",
        "\n",
        "\n",
        "class C(A):\n",
        "    def __init__(self):\n",
        "        # this super() call will follow the MRO: D -> B -> C -> A -> object\n",
        "        super().__init__()\n",
        "        print(\"C init\")\n",
        "        return None\n",
        "\n",
        "    def greet(self):\n",
        "        print(\"Hello from C\")\n",
        "        super().greet()\n",
        "\n",
        "\n",
        "# class D inherits from both B and C, forming a diamond shape in the inheritance hierarchy\n",
        "class D(B, C):\n",
        "    def __init__(self):\n",
        "        super().__init__()\n",
        "        print(\"D init\")\n",
        "        return None\n",
        "\n",
        "    def greet(self):\n",
        "        print(\"Hello from D\")\n",
        "        super().greet() # starts the chain: calls B.greet(), which then calls C.greet(), then A.greet().\n",
        "\n",
        "\n",
        "d = D()\n",
        "print(\"\\nMethod Resolution Order (MRO) for D:\")\n",
        "print(D.__mro__)\n",
        "\n",
        "print(\"\\nCalling greet method on D:\")\n",
        "d.greet()\n"
      ],
      "metadata": {
        "colab": {
          "base_uri": "https://localhost:8080/"
        },
        "id": "5ommcsbZtGYM",
        "outputId": "d61aa67d-d61a-4903-c665-da7b495a2536"
      },
      "execution_count": 15,
      "outputs": [
        {
          "output_type": "stream",
          "name": "stdout",
          "text": [
            "A init\n",
            "C init\n",
            "B init\n",
            "D init\n",
            "\n",
            "Method Resolution Order (MRO) for D:\n",
            "(<class '__main__.D'>, <class '__main__.B'>, <class '__main__.C'>, <class '__main__.A'>, <class 'object'>)\n",
            "\n",
            "Calling greet method on D:\n",
            "Hello from D\n",
            "Hello from B\n",
            "Hello from C\n",
            "Hello from A\n"
          ]
        }
      ]
    },
    {
      "cell_type": "markdown",
      "source": [
        "# Вітаю! Ви велика(ий) молодець, що впоралась(вся). Похваліть себе та побалуйте чимось приємним. Я Вами пишаюся."
      ],
      "metadata": {
        "id": "Z3E3S_s1Fv7-"
      }
    }
  ]
}